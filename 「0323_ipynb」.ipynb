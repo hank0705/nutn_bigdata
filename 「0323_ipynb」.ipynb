{
  "nbformat": 4,
  "nbformat_minor": 0,
  "metadata": {
    "colab": {
      "name": "「0323.ipynb」的副本",
      "provenance": [],
      "collapsed_sections": [],
      "include_colab_link": true
    },
    "kernelspec": {
      "name": "ir",
      "display_name": "R"
    }
  },
  "cells": [
    {
      "cell_type": "markdown",
      "metadata": {
        "id": "view-in-github",
        "colab_type": "text"
      },
      "source": [
        "<a href=\"https://colab.research.google.com/github/hank0705/nutn_bigdata/blob/main/%E3%80%8C0323_ipynb%E3%80%8D.ipynb\" target=\"_parent\"><img src=\"https://colab.research.google.com/assets/colab-badge.svg\" alt=\"Open In Colab\"/></a>"
      ]
    },
    {
      "cell_type": "code",
      "metadata": {
        "id": "Yg7I1NfzVPGD"
      },
      "source": [
        "install.packages(\"SportsAnalytics\")\n",
        "install.packages(\"ggplot2\")\n",
        "\n",
        "library(SportsAnalytics)\n",
        "library(ggplot2)\n",
        "\n",
        "NBA1516<-fetch_NBAPlayerStatistics(\"15-16\")\n",
        "qplot(FieldGoalsAttempted,TotalPoints,data = NBA1516)\n",
        "\n",
        "qplot(FieldGoalsAttempted,TotalPoints,data = NBA1516, color = Position)"
      ],
      "execution_count": null,
      "outputs": []
    },
    {
      "cell_type": "code",
      "metadata": {
        "id": "hhKQNVHQXRdJ"
      },
      "source": [
        "qplot(FieldGoalsAttempted, TotalPoints, data = NBA1516,geom = c(\"point\",\"smooth\"))"
      ],
      "execution_count": null,
      "outputs": []
    },
    {
      "cell_type": "code",
      "metadata": {
        "id": "uMH420cVXt_l"
      },
      "source": [
        "qplot(FieldGoalsAttempted, TotalPoints, data = NBA1516,facets = Position~.)\n",
        "qplot(FieldGoalsAttempted, TotalPoints, data = NBA1516,facets = .~Position)\n"
      ],
      "execution_count": null,
      "outputs": []
    },
    {
      "cell_type": "code",
      "metadata": {
        "id": "XQNMm8MYYN4V"
      },
      "source": [
        "qplot(TotalPoints, data = NBA1516,facets = Position~.,binwidth = 10)\n",
        "qplot(TotalPoints, data = NBA1516,facets = .~Position,binwidth = 100)"
      ],
      "execution_count": null,
      "outputs": []
    },
    {
      "cell_type": "code",
      "metadata": {
        "id": "bMNB4CixZLfI"
      },
      "source": [
        "library(ggplot2)\n",
        "df <- data.frame(gp = factor(rep(letters[1:3],each = 10)),y = rnorm(30))\n",
        "ggplot(df,aes(x = gp,y = y))+geom_point()"
      ],
      "execution_count": null,
      "outputs": []
    },
    {
      "cell_type": "code",
      "metadata": {
        "id": "ZvJSkpXSZxSD"
      },
      "source": [
        "ggplot(df,aes(x = gp, y = y)) +geom_boxplot()"
      ],
      "execution_count": null,
      "outputs": []
    },
    {
      "cell_type": "code",
      "metadata": {
        "id": "0YXU1OxXZ-3d"
      },
      "source": [
        "df$z<-df$y+rnorm(30)\n",
        "ggplot(df,aes(x=z,y=y))+geom_point()+facet_grid(gp~.)\n",
        "ggplot(df,aes(x=z,y=y))+geom_point()+facet_grid(.~gp)"
      ],
      "execution_count": null,
      "outputs": []
    },
    {
      "cell_type": "code",
      "metadata": {
        "id": "YcogKCubahd3"
      },
      "source": [
        "ggplot(df,aes(x=z,y=y))+geom_point()+facet_grid(gp~.)+geom_smooth()\n",
        "ggplot(df,aes(x=z,y=y))+geom_point()+facet_grid(.~gp)+geom_smooth()"
      ],
      "execution_count": null,
      "outputs": []
    },
    {
      "cell_type": "code",
      "metadata": {
        "id": "yPQhBvpVaq-v"
      },
      "source": [
        "ggplot(df,aes(x=z,y=y))+geom_line()+facet_grid(gp~.)\n",
        "ggplot(df,aes(x=z,y=y,color=gp))+geom_line()"
      ],
      "execution_count": null,
      "outputs": []
    },
    {
      "cell_type": "code",
      "metadata": {
        "id": "rxrPx5B-a_Kw"
      },
      "source": [
        "install.packages(\"datasets\")\n",
        "install.packages(\"data.table\")\n",
        "\n",
        "library(datasets)\n",
        "library(data.table)\n",
        "airquality$Month<-as.factor(airquality$Month)\n",
        "airquality.mean<-data.table(airquality)[,.(OzoneMean=mean(Ozone,na.rm = T)),by=Month]\n",
        "ggplot()+geom_bar(data=airquality.mean,aes(x=Month,y=OzoneMean),stat=\"identity\")"
      ],
      "execution_count": null,
      "outputs": []
    },
    {
      "cell_type": "code",
      "metadata": {
        "colab": {
          "base_uri": "https://localhost:8080/",
          "height": 437
        },
        "id": "eUdUMC8gceiD",
        "outputId": "81784a12-03b1-4e34-d03b-f141556bf2f5"
      },
      "source": [
        "library(datasets)\n",
        "library(data.table)\n",
        "airquality$Month<-as.factor(airquality$Month)\n",
        "airquality.stat<-data.table(airquality)[,.(OzoneMean=mean(Ozone,na.rm = T),OzoneSD=sd(Ozone,na.rm = T)),by=Month]\n",
        "ggplot(data=airquality.stat)+\n",
        "    geom_bar(aes(x=Month,y=OzoneMean),stat=\"identity\")+\n",
        "    geom_errorbar(\n",
        "      aes(x=Month,ymin=OzoneMean-OzoneSD,ymax=OzoneMean+OzoneSD),width=.1)"
      ],
      "execution_count": 12,
      "outputs": [
        {
          "output_type": "display_data",
          "data": {
            "image/png": "[encoded data removed]",
            "text/plain": [
              "plot without title"
            ]
          },
          "metadata": {
            "tags": [],
            "image/png": {
              "width": 420,
              "height": 420
            }
          }
        }
      ]
    }
  ]
}