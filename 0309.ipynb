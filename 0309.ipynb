{
  "nbformat": 4,
  "nbformat_minor": 0,
  "metadata": {
    "colab": {
      "name": "0309.ipynb",
      "provenance": [],
      "collapsed_sections": [],
      "include_colab_link": true
    },
    "kernelspec": {
      "name": "ir",
      "display_name": "R"
    }
  },
  "cells": [
    {
      "cell_type": "markdown",
      "metadata": {
        "id": "view-in-github",
        "colab_type": "text"
      },
      "source": [
        "<a href=\"https://colab.research.google.com/github/hank0705/nutn_bigdata/blob/main/0309.ipynb\" target=\"_parent\"><img src=\"https://colab.research.google.com/assets/colab-badge.svg\" alt=\"Open In Colab\"/></a>"
      ]
    },
    {
      "cell_type": "markdown",
      "metadata": {
        "id": "rNt0VeQrD4MI"
      },
      "source": [
        "變數練習"
      ]
    },
    {
      "cell_type": "code",
      "metadata": {
        "id": "5f6rU7ltD6kg"
      },
      "source": [
        "a <- 5\r\n",
        "b <- 3.8\r\n",
        "c <- 1"
      ],
      "execution_count": 11,
      "outputs": []
    },
    {
      "cell_type": "code",
      "metadata": {
        "id": "9CsIb7H5EEL3"
      },
      "source": [
        "str(a)\r\n",
        "str(b)\r\n",
        "str(c)"
      ],
      "execution_count": null,
      "outputs": []
    },
    {
      "cell_type": "code",
      "metadata": {
        "id": "gveV0VwhIKA-"
      },
      "source": [
        "is.numeric(a)\r\n",
        "is.integer(b)\r\n",
        "is.numeric(c)"
      ],
      "execution_count": null,
      "outputs": []
    },
    {
      "cell_type": "code",
      "metadata": {
        "id": "mj1U5FQaI7UN"
      },
      "source": [
        "d <- \"yeeeeeeet\"\r\n",
        "e <- \"hah\"\r\n",
        "str(d)\r\n",
        "str(e)"
      ],
      "execution_count": null,
      "outputs": []
    },
    {
      "cell_type": "code",
      "metadata": {
        "id": "8F62U7cYKHXs"
      },
      "source": [
        "f <- c(5,5,5,5,5)\r\n",
        "g <- c(\"hank\",\"sean\",\"john\")\r\n",
        "f[2]\r\n",
        "g[2]\r\n",
        "g[c(1,2)]"
      ],
      "execution_count": null,
      "outputs": []
    },
    {
      "cell_type": "code",
      "metadata": {
        "id": "K-A1wyyYOAjp"
      },
      "source": [
        "i <- c(1,2,3,4,5,6)\r\n",
        "j <- c(1,2,3,4,5,6)\r\n",
        "i * j\r\n"
      ],
      "execution_count": null,
      "outputs": []
    },
    {
      "cell_type": "code",
      "metadata": {
        "id": "Ny-6HRV-M9Dk"
      },
      "source": [
        "gender <- c(\"B\",\"G\",\"B\",\"G\",\"M\")\r\n",
        "gender <- factor(gender)\r\n",
        "gender\r\n",
        "levels(gender)"
      ],
      "execution_count": null,
      "outputs": []
    },
    {
      "cell_type": "code",
      "metadata": {
        "id": "-E5oTfhdOaVZ"
      },
      "source": [
        "matrixA <- matrix(c(1:4),nrow=2,ncol=2)\r\n",
        "matrixA\r\n",
        "matrixB <- matrix(c(8:13),nrow=3,ncol=2)\r\n",
        "matrixB\r\n",
        "matrixA[1,1]\r\n",
        "matrixA[1,]\r\n",
        "matrixA[,2]"
      ],
      "execution_count": null,
      "outputs": []
    },
    {
      "cell_type": "code",
      "metadata": {
        "id": "zBFp4po5PDWD"
      },
      "source": [
        "tmp <- data.frame(Student_ID=c(1,2,3),\r\n",
        "          name =c(\"Hank\",\"Sean\",\"John\"),\r\n",
        "          score=c(99,89,79))\r\n",
        "tmp\r\n",
        "tmp[2,3]\r\n",
        "tmp[,2]\r\n",
        "tmp$name ==\"Hank\"\r\n",
        "tmp[tmp$name == \"Hank\",]"
      ],
      "execution_count": null,
      "outputs": []
    },
    {
      "cell_type": "code",
      "metadata": {
        "id": "hGZdgfD3Reto"
      },
      "source": [
        "install.packages(\"SportsAnalytics\")\r\n",
        "\r\n",
        "library(SportsAnalytics)\r\n",
        "NBA1516 <- fetch_NBAPlayerStatistics(\"15-16\")"
      ],
      "execution_count": null,
      "outputs": []
    },
    {
      "cell_type": "code",
      "metadata": {
        "id": "hlfgiNR1SCbi"
      },
      "source": [
        "str(NBA1516)"
      ],
      "execution_count": null,
      "outputs": []
    },
    {
      "cell_type": "code",
      "metadata": {
        "id": "II0HgGQnSL6g"
      },
      "source": [
        "head(NBA1516)"
      ],
      "execution_count": null,
      "outputs": []
    },
    {
      "cell_type": "code",
      "metadata": {
        "colab": {
          "base_uri": "https://localhost:8080/",
          "height": 68
        },
        "id": "ylfy2PJYSQf4",
        "outputId": "ae4892af-bc5a-463d-dbca-d4d90a838401"
      },
      "source": [
        "NBA1516Order <- NBA1516[order(NBA1516$GamesPlayed,decreasing = T),]\r\n",
        "NBA1516Order[1:20,\"Name\"]"
      ],
      "execution_count": 46,
      "outputs": [
        {
          "output_type": "display_data",
          "data": {
            "text/plain": [
              " [1] \"Al-farouq Aminu\"  \"Will Barton\"      \"Bismack Biyombo\"  \"Corey Brewer\"    \n",
              " [5] \"Gorgui Dieng\"     \"Langsto Galloway\" \"James Harden\"     \"Al Horford\"      \n",
              " [9] \"Enes Kanter\"      \"Zach Lavine\"      \"Robin Lopez\"      \"Shabazz Muhammad\"\n",
              "[13] \"Mason Plumlee\"    \"Ramon Sessions\"   \"Isaiah Thomas\"    \"Tristan Thompson\"\n",
              "[17] \"Karl-antho Towns\" \"P.j. Tucker\"      \"Trevor Ariza\"     \"Aron Baynes\"     "
            ],
            "text/latex": "\\begin{enumerate*}\n\\item 'Al-farouq Aminu'\n\\item 'Will Barton'\n\\item 'Bismack Biyombo'\n\\item 'Corey Brewer'\n\\item 'Gorgui Dieng'\n\\item 'Langsto Galloway'\n\\item 'James Harden'\n\\item 'Al Horford'\n\\item 'Enes Kanter'\n\\item 'Zach Lavine'\n\\item 'Robin Lopez'\n\\item 'Shabazz Muhammad'\n\\item 'Mason Plumlee'\n\\item 'Ramon Sessions'\n\\item 'Isaiah Thomas'\n\\item 'Tristan Thompson'\n\\item 'Karl-antho Towns'\n\\item 'P.j. Tucker'\n\\item 'Trevor Ariza'\n\\item 'Aron Baynes'\n\\end{enumerate*}\n",
            "text/markdown": "1. 'Al-farouq Aminu'\n2. 'Will Barton'\n3. 'Bismack Biyombo'\n4. 'Corey Brewer'\n5. 'Gorgui Dieng'\n6. 'Langsto Galloway'\n7. 'James Harden'\n8. 'Al Horford'\n9. 'Enes Kanter'\n10. 'Zach Lavine'\n11. 'Robin Lopez'\n12. 'Shabazz Muhammad'\n13. 'Mason Plumlee'\n14. 'Ramon Sessions'\n15. 'Isaiah Thomas'\n16. 'Tristan Thompson'\n17. 'Karl-antho Towns'\n18. 'P.j. Tucker'\n19. 'Trevor Ariza'\n20. 'Aron Baynes'\n\n\n",
            "text/html": [
              "<style>\n",
              ".list-inline {list-style: none; margin:0; padding: 0}\n",
              ".list-inline>li {display: inline-block}\n",
              ".list-inline>li:not(:last-child)::after {content: \"\\00b7\"; padding: 0 .5ex}\n",
              "</style>\n",
              "<ol class=list-inline><li>'Al-farouq Aminu'</li><li>'Will Barton'</li><li>'Bismack Biyombo'</li><li>'Corey Brewer'</li><li>'Gorgui Dieng'</li><li>'Langsto Galloway'</li><li>'James Harden'</li><li>'Al Horford'</li><li>'Enes Kanter'</li><li>'Zach Lavine'</li><li>'Robin Lopez'</li><li>'Shabazz Muhammad'</li><li>'Mason Plumlee'</li><li>'Ramon Sessions'</li><li>'Isaiah Thomas'</li><li>'Tristan Thompson'</li><li>'Karl-antho Towns'</li><li>'P.j. Tucker'</li><li>'Trevor Ariza'</li><li>'Aron Baynes'</li></ol>\n"
            ]
          },
          "metadata": {
            "tags": []
          }
        }
      ]
    },
    {
      "cell_type": "code",
      "metadata": {
        "id": "qegJBFAmS4zQ"
      },
      "source": [
        "subset(NBA1516,Team==\"GSW\")"
      ],
      "execution_count": null,
      "outputs": []
    },
    {
      "cell_type": "code",
      "metadata": {
        "id": "2CN2qjStTJCP"
      },
      "source": [
        "NBA1516[grepl(\"Curry\",NBA1516$Name),]"
      ],
      "execution_count": null,
      "outputs": []
    },
    {
      "cell_type": "markdown",
      "metadata": {
        "id": "PpOfz5KLRJ8A"
      },
      "source": [
        "#data table"
      ]
    },
    {
      "cell_type": "code",
      "metadata": {
        "colab": {
          "base_uri": "https://localhost:8080/"
        },
        "id": "WNiEtd8jRMrw",
        "outputId": "39399a21-bd6e-4e53-dfac-939d1c354a52"
      },
      "source": [
        "install.packages(\"data.table\")\r\n",
        "library(data.table)"
      ],
      "execution_count": 37,
      "outputs": [
        {
          "output_type": "stream",
          "text": [
            "Installing package into ‘/usr/local/lib/R/site-library’\n",
            "(as ‘lib’ is unspecified)\n",
            "\n"
          ],
          "name": "stderr"
        }
      ]
    },
    {
      "cell_type": "code",
      "metadata": {
        "id": "tQ7YG50TTZ7n"
      },
      "source": [
        "NBA1516DT <- data.table(NBA1516)\r\n",
        "\r\n",
        "NBA1516DT[grepl('James',Name)]\r\n",
        "NBA1516DT[GamesPlayed > 80]\r\n",
        "NBA1516DT[grepl('C',Name)&Position ==\"PG\"]"
      ],
      "execution_count": null,
      "outputs": []
    }
  ]
}